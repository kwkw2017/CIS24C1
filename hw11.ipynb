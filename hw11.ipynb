{
 "cells": [
  {
   "cell_type": "markdown",
   "metadata": {},
   "source": [
    "\n",
    "# CIS024C - Summer 2018\n",
    "\n",
    "## Homework 11\n",
    "\n",
    "Homework 11 covers object oriented programming in Python\n",
    "\n",
    "The below sites have some interesting and useful information on working with files\n",
    "\n",
    "https://drive.google.com/open?id=1OrcpXEmhvgcJxSlchIBsvmXST0lG_uKx\n",
    "http://www.tutorialspoint.com/python/python_classes_objects.htm\n",
    "\n",
    "You will need to download this notebook and use this as a starting point for your homework. You will just need to fill in the content of each code-block (cell) and execute. Once you have completed all the exercises, you will need to save and upload this to your github repository under a folder called hw10.\n",
    "\n",
    "Note also the exercises build on top of one another so you might be able to do the next exercise if you have not completed the previous exercise.\n",
    "\n",
    "Post any questions you have on our Slack at **cis-024c1.slack.com**\n",
    "\n",
    "Slides\n",
    "\n",
    "https://docs.google.com/presentation/d/1AigvCKV1yb3PrrcT5xt3IqyAwGpv6IKMNWYUiQ2Oy6k/edit?usp=sharing\n",
    "\n",
    "**Please refer back to hw1 and slack for instructions on how to setup your computer for developing using Python.**"
   ]
  },
  {
   "cell_type": "markdown",
   "metadata": {},
   "source": [
    "### Helpful Jupyter Commands\n",
    "\n",
    "Below are some useful commands to know when using Jupyter\n",
    "\n",
    "1. You can add a new cell by clicking on the \"+\" icon on top.\n",
    "2. You can delete a cell by selecting that cell and clicking on the \"scissors\" icon on top.\n",
    "3. You can execute a cell by either pressing shift+enter or selecting the \"play\" button on top.\n",
    "4. You can create a new file in Jupyter via the File menu->New Notebook option. Make sure to select Python 2 when creating your notebook.\n",
    "5. Also, for your code blocks make sure that Code is selected instead of another option like Markdown.\n",
    "6. Use the Enter key to go to the next line in a cell to enter the next statement.\n",
    "7. You can clear results by clicking on the Cell menu item and selecting Current Output->Clear or All Output->Clear depending on whether you are trying to just clear the output for one cell or for all cells.\n",
    "8. In case your program has crashed for some reason (infinite loop, for example), you can restart your Python session by select Kernel in the menu and selecting Restart.\n"
   ]
  },
  {
   "cell_type": "markdown",
   "metadata": {},
   "source": [
    "#### Check Python Version"
   ]
  },
  {
   "cell_type": "code",
   "execution_count": 1,
   "metadata": {},
   "outputs": [
    {
     "name": "stderr",
     "output_type": "stream",
     "text": [
      "Python 3.6.5 :: Anaconda, Inc.\n"
     ]
    }
   ],
   "source": [
    "!python --version"
   ]
  },
  {
   "cell_type": "markdown",
   "metadata": {},
   "source": [
    "**Exercise 1 - Testing your knowledge of object oriented programming concepts **\n",
    "\n",
    "Answer the below questions\n",
    "\n",
    "1. Why do we need classes?\n",
    "2. What is encapsulation?"
   ]
  },
  {
   "cell_type": "markdown",
   "metadata": {},
   "source": [
    "1. Classes are the basis of object-oriented programming, and are good for describing objects and performing functions of them.\n",
    "2. Encapsulation is the process of restricting access to variables and functions."
   ]
  },
  {
   "cell_type": "markdown",
   "metadata": {},
   "source": [
    "** Exercise 2 - Class creation **\n",
    "\n",
    "Create a Python class named **Employee** with the following attributes and methods\n",
    "\n",
    "Data members\n",
    "```\n",
    "1. employeeName  - type string\n",
    "2. employeeAge  - type int\n",
    "3. employeeSalary - type float\n",
    "```\n",
    "\n",
    "Methods:\n",
    "```\n",
    "1. getEmployee - returns employee name\n",
    "2. getEmployeeAge - gets the employee age\n",
    "3. getEmployeeSalary - returns the employee salary\n",
    "4. __init__ - initialize method accepts the name, age and salary of the employee\n",
    "```\n",
    "\n",
    "Create an object of type Employee and initialize with arbitrary values. Invoke the get methods and display the result."
   ]
  },
  {
   "cell_type": "code",
   "execution_count": 25,
   "metadata": {},
   "outputs": [
    {
     "name": "stdout",
     "output_type": "stream",
     "text": [
      "Harry\n",
      "23\n",
      "100.5\n",
      "Harry\n"
     ]
    }
   ],
   "source": [
    "### YOUR CODE GOES BELOW\n",
    "\n",
    "class Employee(object):\n",
    "    \n",
    "    def __init__(self,name,age,salary):\n",
    "        self.employeeName = name\n",
    "        self.employeeAge = int(age)\n",
    "        self.employeeSalary = float(salary)\n",
    "    \n",
    "    def getEmployee(self):\n",
    "        print(self.employeeName)\n",
    "    \n",
    "    def getEmployeeAge(self):\n",
    "        print(self.employeeAge)\n",
    "    \n",
    "    def getEmployeeSalary(self):\n",
    "        print(self.employeeSalary)\n",
    "\n",
    "employee1 = Employee(\"Harry\",23,100.5)\n",
    "\n",
    "employee1.getEmployee()\n",
    "employee1.getEmployeeAge()\n",
    "employee1.getEmployeeSalary()\n",
    "print(employee1.employeeName) # showing that the variable is not private\n",
    "\n",
    "### END CODE"
   ]
  },
  {
   "cell_type": "markdown",
   "metadata": {},
   "source": [
    "#### Exercise 3 - Private members\n",
    "\n",
    "In the above **Employee** class make the employeeName, employeeAge and employeeSalary private so that their access is restricted to only within the class."
   ]
  },
  {
   "cell_type": "code",
   "execution_count": 28,
   "metadata": {},
   "outputs": [
    {
     "name": "stdout",
     "output_type": "stream",
     "text": [
      "Harry\n",
      "23\n",
      "100.5\n"
     ]
    },
    {
     "ename": "AttributeError",
     "evalue": "'Employee' object has no attribute '__employeeName'",
     "output_type": "error",
     "traceback": [
      "\u001b[1;31m---------------------------------------------------------------------------\u001b[0m",
      "\u001b[1;31mAttributeError\u001b[0m                            Traceback (most recent call last)",
      "\u001b[1;32m<ipython-input-28-bd872f9cba6d>\u001b[0m in \u001b[0;36m<module>\u001b[1;34m()\u001b[0m\n\u001b[0;32m     22\u001b[0m \u001b[0memployee1\u001b[0m\u001b[1;33m.\u001b[0m\u001b[0mgetEmployeeAge\u001b[0m\u001b[1;33m(\u001b[0m\u001b[1;33m)\u001b[0m\u001b[1;33m\u001b[0m\u001b[0m\n\u001b[0;32m     23\u001b[0m \u001b[0memployee1\u001b[0m\u001b[1;33m.\u001b[0m\u001b[0mgetEmployeeSalary\u001b[0m\u001b[1;33m(\u001b[0m\u001b[1;33m)\u001b[0m\u001b[1;33m\u001b[0m\u001b[0m\n\u001b[1;32m---> 24\u001b[1;33m \u001b[0mprint\u001b[0m\u001b[1;33m(\u001b[0m\u001b[0memployee1\u001b[0m\u001b[1;33m.\u001b[0m\u001b[0m__employeeName\u001b[0m\u001b[1;33m)\u001b[0m \u001b[1;31m# showing that the variable is private, it throws an AttributeError when called\u001b[0m\u001b[1;33m\u001b[0m\u001b[0m\n\u001b[0m\u001b[0;32m     25\u001b[0m \u001b[1;33m\u001b[0m\u001b[0m\n\u001b[0;32m     26\u001b[0m \u001b[1;31m### END CODE\u001b[0m\u001b[1;33m\u001b[0m\u001b[1;33m\u001b[0m\u001b[0m\n",
      "\u001b[1;31mAttributeError\u001b[0m: 'Employee' object has no attribute '__employeeName'"
     ]
    }
   ],
   "source": [
    "### YOUR CODE GOES BELOW\n",
    "\n",
    "class Employee(object):\n",
    "    \n",
    "    def __init__(self,name,age,salary):\n",
    "        self.__employeeName = name\n",
    "        self.__employeeAge = int(age)\n",
    "        self.__employeeSalary = float(salary)\n",
    "    \n",
    "    def getEmployee(self):\n",
    "        print(self.__employeeName)\n",
    "    \n",
    "    def getEmployeeAge(self):\n",
    "        print(self.__employeeAge)\n",
    "    \n",
    "    def getEmployeeSalary(self):\n",
    "        print(self.__employeeSalary)\n",
    "\n",
    "employee1 = Employee(\"Harry\",23,100.5)\n",
    "\n",
    "employee1.getEmployee()\n",
    "employee1.getEmployeeAge()\n",
    "employee1.getEmployeeSalary()\n",
    "print(employee1.__employeeName) # showing that the variable is private, it throws an AttributeError when called\n",
    "\n",
    "### END CODE"
   ]
  },
  {
   "cell_type": "markdown",
   "metadata": {},
   "source": [
    "#### Exercise 4 - Adding setters and working with a list of Employees\n",
    "\n",
    "In the **Employee** class add the following methods\n",
    "\n",
    "```\n",
    "1. setEmployeeAge - accepts age and sets it in the object\n",
    "2. setEmployeeName - accepts employee name and sets it in the object\n",
    "3. setEmployeeSalary - accepts employee salary and sets it i nthe object\n",
    "```\n",
    "\n",
    "Create a list of employees called employeeList. Initialize the list with three objects of type Employee. Initialize the object with the values \"None\" for employeeName, 0 for employeeAge and 0 for employeeSalary.\n",
    "\n",
    "Loop  through each employee in the employeeList. Each time, request the user to enter the name, age and salary of a different employee. Use the set methods to set the name, age and salary for each employee in the employeeList.\n",
    "\n",
    "Loop through each employee in the employeeList. Display the name, age and salary of each employee."
   ]
  },
  {
   "cell_type": "code",
   "execution_count": 3,
   "metadata": {},
   "outputs": [],
   "source": [
    "### YOUR CODE GOES BELOW\n",
    "\n",
    "class Employee(object):\n",
    "    \n",
    "    def __init__(self,name,age,salary):\n",
    "        self.__employeeName = name\n",
    "        self.__employeeAge = int(age)\n",
    "        self.__employeeSalary = float(salary)\n",
    "        \n",
    "    def setEmployeeAge(self,age):\n",
    "        self.__employeeAge = int(age)\n",
    "    \n",
    "    def setEmployeeName(self,name):\n",
    "        self.__employeeName = name\n",
    "    \n",
    "    def setEmployeeSalary(self,salary):\n",
    "        self.__employeeSalary = float(salary)\n",
    "    \n",
    "    def getEmployee(self):\n",
    "        print(self.__employeeName)\n",
    "    \n",
    "    def getEmployeeAge(self):\n",
    "        print(self.__employeeAge)\n",
    "    \n",
    "    def getEmployeeSalary(self):\n",
    "        print(self.__employeeSalary)\n",
    "\n",
    "employee1 = Employee(\"Harry\",23,100.5)\n",
    "\n",
    "employee1.getEmployee()\n",
    "employee1.getEmployeeAge()\n",
    "employee1.getEmployeeSalary()\n",
    "\n",
    "### END CODE"
   ]
  },
  {
   "cell_type": "markdown",
   "metadata": {},
   "source": [
    "#### Exercise 5 -  Creating a Python calculator class\n",
    "\n",
    "Create a Python class called Calculator. \n",
    "\n",
    "The class has the following data members\n",
    "\n",
    "```\n",
    "1. number1 - type float\n",
    "2. number2 - type float\n",
    "```\n",
    "\n",
    "The class must have the below methods\n",
    "\n",
    "```\n",
    "1. add - adds two numbers and returns the result\n",
    "2. subtract - subtracts the first number from the second number and returns the result\n",
    "3. multiply - multiply two numbers and returns the result\n",
    "4. divide - divide the first number by the second number and returns the result\n",
    "5. __init__ - accepts two numbers and uses those numbers to initialize number1 and number2 respectively\n",
    "```\n",
    "\n",
    "Create an object of the Calculator class. Initialize it with any two arbitrary numbers. Invoke the methods add, subtract, multiple and divide and display the result\n",
    "\n",
    "\n"
   ]
  },
  {
   "cell_type": "code",
   "execution_count": 30,
   "metadata": {},
   "outputs": [
    {
     "name": "stdout",
     "output_type": "stream",
     "text": [
      "24.0\n",
      "-18.0\n",
      "63.0\n",
      "7.0\n"
     ]
    }
   ],
   "source": [
    "### YOUR CODE GOES \n",
    "\n",
    "class Calculator(object):\n",
    "    def __init__(self,number1,number2):\n",
    "        self.number1 = float(number1)\n",
    "        self.number2 = float(number2)\n",
    "    def add(self):\n",
    "        print(self.number1 + self.number2)\n",
    "    def subtract(self):\n",
    "        # you said \"subtract the first number from the second number\"\n",
    "        # maybe you meant \"subtract the second number from the first number\"? this would make more sense in my opinion\n",
    "        print(self.number2-self.number1)\n",
    "    def multiply(self):\n",
    "        print(self.number1*self.number2)\n",
    "    def divide(self):\n",
    "        print(self.number1/self.number2)\n",
    "        \n",
    "calculator1 = Calculator(21,3)\n",
    "calculator1.add()\n",
    "calculator1.subtract()\n",
    "calculator1.multiply()\n",
    "calculator1.divide()\n",
    "\n",
    "### END CODE"
   ]
  },
  {
   "cell_type": "markdown",
   "metadata": {},
   "source": [
    "# Optional Exercise"
   ]
  },
  {
   "cell_type": "markdown",
   "metadata": {},
   "source": [
    "#### Exercise 6"
   ]
  },
  {
   "cell_type": "markdown",
   "metadata": {
    "collapsed": true
   },
   "source": [
    "In the next two problems, you’ll be building an address book using object-­‐oriented programming in Python. To begin, you’ll define a Person class. You’ll use this class in the next problem to build your address book – each entry in your address book will be an instance of the Person class.\n",
    "\n",
    "To begin, define the    init    and    str    methods for the Person class. Read the Python documentation if needed to help you understand what    init__ and    str \t need to do.\n",
    "\n",
    "Here’s an example interaction in the Python shell demonstrating how your class should work after implementing these two methods:"
   ]
  },
  {
   "cell_type": "raw",
   "metadata": {},
   "source": [
    "Emily = Person(“Zhang”, “Emily”, “5559358150”, “emzhang@mit.edu”)\n",
    "print Emily\n",
    "Zhang, Emily -- Phone Number: 5559358150 -- Email Address(es): emzhang@mit.edu\n",
    "Wesley = Person(“Graybill”, “Wesley”, “5551940325”, [‘wgray496@mit.edu’, ‘wdgraybill@gmail.com’])\n",
    "print Wesley\n",
    "Graybill, Wesley -- Phone Number: 5551940325 -- Email Address(es): wgray496@mit.edu, wdgraybill@gmail.com"
   ]
  },
  {
   "cell_type": "code",
   "execution_count": 22,
   "metadata": {},
   "outputs": [
    {
     "name": "stdout",
     "output_type": "stream",
     "text": [
      "Zhang, Emily -- Phone Number: 5559358150 -- Email Address(es): emzhang@mit.edu\n",
      "Graybill, Wesley -- Phone Number: 5551940325 -- Email Address(es): wgray496@mit.edu, wdgraybill@gmail.com\n"
     ]
    }
   ],
   "source": [
    "### YOUR CODE GOES \n",
    "\n",
    "class Person(object):\n",
    "    def __init__(self,lastName,firstName,phone,email):\n",
    "        self.lastName = lastName\n",
    "        self.firstName = firstName\n",
    "        self.phone = str(phone)\n",
    "        self.email = email\n",
    "    def __str__(self):\n",
    "        result = self.lastName + \", \" + self.firstName + \" -- Phone Number: \" + self.phone + \" -- Email Address(es): \"\n",
    "        i = 0\n",
    "        for address in self.email:\n",
    "            if(len(address) == 1): # to detect whether or not there are multiple emails\n",
    "                result += self.email\n",
    "                break\n",
    "            if(i == 0):\n",
    "                result += address\n",
    "            else:\n",
    "                result += \", \" + address\n",
    "            i+=1\n",
    "        return result\n",
    "\n",
    "Emily = Person(\"Zhang\", \"Emily\", 5559358150, \"emzhang@mit.edu\")\n",
    "print(Emily)\n",
    "Wesley = Person(\"Graybill\", \"Wesley\", 5551940325, [\"wgray496@mit.edu\", \"wdgraybill@gmail.com\"])\n",
    "print (Wesley)\n",
    "\n",
    "### END CODE"
   ]
  },
  {
   "cell_type": "markdown",
   "metadata": {},
   "source": [
    "#### Exercise 7"
   ]
  },
  {
   "cell_type": "markdown",
   "metadata": {},
   "source": [
    "In this problem, you will use your Person class from the previous problem to create an address book for storing the contacts of your friends and family. It should allow you to search the address book for a friend, and return their contact information.\n",
    "\n",
    "Begin by defining an   init   method. Don’t forget about Python's built-­‐in dictionary data type.\n",
    "\n",
    "Next, write a method add_contact that allows you to add a new person to the address book.\n",
    "\n",
    "Finally, write a method lookup_contact that looks up a contact by last name. The method should accept the last name as an argument, and print each contact that matches the last name on a new line. As an additional challenge, extend this method to allow users to optionally specify a first name to narrow down the results when multiple contacts have the same last name. To learn more about optional arguments in Python, search for terms such as “optional arguments in Python” and “default arguments in Python”.\n",
    "\n",
    "For example, suppose the contact book contains entries for both Ali Kamil, and his wife Sama Kamil. The following is an example output:\n"
   ]
  },
  {
   "cell_type": "raw",
   "metadata": {},
   "source": [
    ">>> a = AddressBook()\n",
    ">>> a.add_person(Person(“Kamil”, “Ali”, … ))\n",
    ">>> a.add_person(Person(“Kamil”, “Sama”, … ))\n",
    ">>> a.lookup_contact(“Kamil”) Kamil, Ali -- Phone Number: … Kamil, Sama -- Phone Number: …\n",
    ">>> a.lookup_contact(“Kamil”, “Ali”)\n",
    "Kamil, Ali -- Phone Number: …\n"
   ]
  },
  {
   "cell_type": "code",
   "execution_count": 23,
   "metadata": {},
   "outputs": [
    {
     "name": "stdout",
     "output_type": "stream",
     "text": [
      "Potter, Harry -- Phone Number: 5559358150 -- Email Address(es): harrypotter1234@gmail.com\n",
      "Potter, Lary -- Phone Number: 5551940325 -- Email Address(es): larrypotter9876@gmail.com, notharrypotter345@gmail.com\n",
      "Smith, John -- Phone Number: 5552354563 -- Email Address(es): supergenericname123@gmail.com\n",
      "Potter, Harry -- Phone Number: 5559358150 -- Email Address(es): harrypotter1234@gmail.com\n"
     ]
    }
   ],
   "source": [
    "### YOUR CODE GOES \n",
    "\n",
    "class AddressBook(object):\n",
    "    def __init__(self):\n",
    "        self.addresses = []\n",
    "    def add_person(self,person):\n",
    "        self.addresses.append(person)\n",
    "    def lookup_contact(self,lastName,firstName = \"!DNE\"):\n",
    "        firstNameCheck = False\n",
    "        if(firstName != \"!DNE\"):\n",
    "            firstNameCheck = True\n",
    "        \n",
    "        if(firstNameCheck == False):\n",
    "            for address in self.addresses:\n",
    "                if(address.lastName == lastName):\n",
    "                    print(address)\n",
    "        else:\n",
    "            for address in self.addresses:\n",
    "                if(address.lastName == lastName and address.firstName == firstName):\n",
    "                    print(address)\n",
    "                    \n",
    "a = AddressBook()\n",
    "a.add_person(Person(\"Potter\", \"Harry\", 5559358150, \"harrypotter1234@gmail.com\"))\n",
    "a.add_person(Person(\"Potter\",\"Lary\", 5551940325, [\"larrypotter9876@gmail.com\", \"notharrypotter345@gmail.com\"]))\n",
    "a.add_person(Person(\"Smith\", \"John\", 5552354563, \"supergenericname123@gmail.com\"))\n",
    "a.lookup_contact(\"Potter\")\n",
    "a.lookup_contact(\"Smith\")\n",
    "a.lookup_contact(\"Potter\",\"Harry\")\n",
    "\n",
    "### END CODE"
   ]
  }
 ],
 "metadata": {
  "kernelspec": {
   "display_name": "Python 3",
   "language": "python",
   "name": "python3"
  },
  "language_info": {
   "codemirror_mode": {
    "name": "ipython",
    "version": 3
   },
   "file_extension": ".py",
   "mimetype": "text/x-python",
   "name": "python",
   "nbconvert_exporter": "python",
   "pygments_lexer": "ipython3",
   "version": "3.6.5"
  }
 },
 "nbformat": 4,
 "nbformat_minor": 2
}
